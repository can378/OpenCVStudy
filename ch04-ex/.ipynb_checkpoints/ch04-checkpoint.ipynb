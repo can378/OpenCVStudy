{
 "cells": [
  {
   "cell_type": "code",
   "execution_count": 3,
   "id": "c46a5bdc",
   "metadata": {},
   "outputs": [],
   "source": [
    "#4-1\n",
    "import cv2 as cv\n",
    "\n",
    "img=cv.imread(\"../source/pooh.jpg\")\n",
    "gray=cv.cvtColor(img,cv.COLOR_BGR2GRAY)\n",
    "\n",
    "grad_x=cv.Sobel(gray,cv.CV_32F,1,0,ksize=3)\n",
    "grad_y=cv.Sobel(gray,cv.CV_32F,0,1,ksize=3)\n",
    "\n",
    "sobel_x=cv.convertScaleAbs(grad_x)\n",
    "sobel_y=cv.convertScaleAbs(grad_y)\n",
    "\n",
    "edge_strength=cv.addWeighted(sobel_x,0.5,sobel_y,0.5,0)\n",
    "cv.imshow(\"Original\",gray)\n",
    "cv.imshow(\"sobelx\",sobel_x)\n",
    "cv.imshow(\"sobely\",sobel_y)\n",
    "cv.imshow(\"edge strength\",edge_strength)\n",
    "\n",
    "cv.waitKey()\n",
    "cv.destroyAllWindows()"
   ]
  },
  {
   "cell_type": "code",
   "execution_count": 4,
   "id": "ad1610f1",
   "metadata": {},
   "outputs": [],
   "source": [
    "#4-2\n",
    "import cv2 as cv\n",
    "\n",
    "img=cv.imread(\"../source/pooh.jpg\")\n",
    "gray=cv.cvtColor(img,cv.COLOR_BGR2GRAY)\n",
    "\n",
    "canny1=cv.Canny(gray,50,150)\n",
    "canny2=cv.Canny(gray,100,200)\n",
    "\n",
    "cv.imshow(\"Original\",gray)\n",
    "cv.imshow(\"Canny1\",canny1)\n",
    "cv.imshow(\"Canny2\",canny2)\n",
    "\n",
    "cv.waitKey()\n",
    "cv.destroyAllWindows()\n"
   ]
  },
  {
   "cell_type": "code",
   "execution_count": null,
   "id": "abcfb449",
   "metadata": {},
   "outputs": [],
   "source": [
    "#4-3\n",
    "import cv2 as cv\n",
    "import numpy as np\n",
    "\n",
    "img=cv.imread(\"../source/pooh.jpg\")\n",
    "gray=cv.cvtColor(img,cv.COLOR_BGR2GRAY)\n",
    "canny=cv.Canny(gray,100,200)\n",
    "\n",
    "contour,hierarchy=cv.findContours(canny,cv.RETR_LIST,cv.CHAIN_APPROX_NONE)\n",
    "\n",
    "lcontour=[]\n",
    "for i in range(len(contour)):\n",
    "    if contour[i].shape[0]>100:\n",
    "        lcontour.append(contour[i])\n",
    "        \n",
    "cv.drawContours(img,lcontour,-1,(0,255,0),3)\n",
    "\n",
    "cv.imshow(\"Original with contours\",img)\n",
    "cv.imshow(\"Canny\",canny)\n",
    "\n",
    "cv.waitKey()\n",
    "cv.destroyAllWindows()"
   ]
  },
  {
   "cell_type": "code",
   "execution_count": null,
   "id": "5a8a3ec9",
   "metadata": {},
   "outputs": [],
   "source": []
  },
  {
   "cell_type": "code",
   "execution_count": null,
   "id": "9eef0cba",
   "metadata": {},
   "outputs": [],
   "source": [
    "#4-4\n",
    "import cv2 as cv \n",
    "\n",
    "img=cv.imread('apples.jpg')\n",
    "gray=cv.cvtColor(img,cv.COLOR_BGR2GRAY)\n",
    "\n",
    "apples=cv.HoughCircles(gray,cv.HOUGH_GRADIENT,1,200,param1=150,param2=20,minRadius=50,maxRadius=120)\n",
    "\n",
    "for i in apples[0]: \n",
    "    cv.circle(img,(int(i[0]),int(i[1])),int(i[2]),(255,0,0),2)\n",
    "\n",
    "cv.imshow('Apple detection',img)  \n",
    "\n",
    "cv.waitKey()\n",
    "cv.destroyAllWindows()"
   ]
  },
  {
   "cell_type": "code",
   "execution_count": null,
   "id": "ae4303ce",
   "metadata": {},
   "outputs": [],
   "source": [
    "#4-5\n"
   ]
  },
  {
   "cell_type": "code",
   "execution_count": null,
   "id": "0c913469",
   "metadata": {},
   "outputs": [],
   "source": [
    "print(\"hello\")"
   ]
  },
  {
   "cell_type": "code",
   "execution_count": null,
   "id": "5de2c7df",
   "metadata": {},
   "outputs": [],
   "source": []
  },
  {
   "cell_type": "code",
   "execution_count": null,
   "id": "2d1d2407",
   "metadata": {},
   "outputs": [],
   "source": []
  },
  {
   "cell_type": "code",
   "execution_count": null,
   "id": "40111d7b",
   "metadata": {},
   "outputs": [],
   "source": []
  },
  {
   "cell_type": "code",
   "execution_count": null,
   "id": "b64d35d1",
   "metadata": {},
   "outputs": [],
   "source": []
  },
  {
   "cell_type": "code",
   "execution_count": null,
   "id": "036363d5",
   "metadata": {},
   "outputs": [],
   "source": []
  },
  {
   "cell_type": "code",
   "execution_count": null,
   "id": "ace6306d",
   "metadata": {},
   "outputs": [],
   "source": []
  },
  {
   "cell_type": "code",
   "execution_count": null,
   "id": "e5a3672a",
   "metadata": {},
   "outputs": [],
   "source": []
  },
  {
   "cell_type": "code",
   "execution_count": null,
   "id": "89ad6b83",
   "metadata": {},
   "outputs": [],
   "source": []
  }
 ],
 "metadata": {
  "kernelspec": {
   "display_name": "Python 3 (ipykernel)",
   "language": "python",
   "name": "python3"
  },
  "language_info": {
   "codemirror_mode": {
    "name": "ipython",
    "version": 3
   },
   "file_extension": ".py",
   "mimetype": "text/x-python",
   "name": "python",
   "nbconvert_exporter": "python",
   "pygments_lexer": "ipython3",
   "version": "3.11.4"
  }
 },
 "nbformat": 4,
 "nbformat_minor": 5
}
