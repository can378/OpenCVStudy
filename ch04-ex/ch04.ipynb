{
 "cells": [
  {
   "cell_type": "code",
   "execution_count": 3,
   "id": "c46a5bdc",
   "metadata": {},
   "outputs": [],
   "source": [
    "#4-1\n",
    "import cv2 as cv\n",
    "\n",
    "img=cv.imread(\"../source/pooh.jpg\")\n",
    "gray=cv.cvtColor(img,cv.COLOR_BGR2GRAY)\n",
    "\n",
    "grad_x=cv.Sobel(gray,cv.CV_32F,1,0,ksize=3)\n",
    "grad_y=cv.Sobel(gray,cv.CV_32F,0,1,ksize=3)\n",
    "\n",
    "sobel_x=cv.convertScaleAbs(grad_x)\n",
    "sobel_y=cv.convertScaleAbs(grad_y)\n",
    "\n",
    "edge_strength=cv.addWeighted(sobel_x,0.5,sobel_y,0.5,0)\n",
    "cv.imshow(\"Original\",gray)\n",
    "cv.imshow(\"sobelx\",sobel_x)\n",
    "cv.imshow(\"sobely\",sobel_y)\n",
    "cv.imshow(\"edge strength\",edge_strength)\n",
    "\n",
    "cv.waitKey()\n",
    "cv.destroyAllWindows()"
   ]
  },
  {
   "cell_type": "code",
   "execution_count": 4,
   "id": "ad1610f1",
   "metadata": {},
   "outputs": [],
   "source": [
    "#4-2\n",
    "import cv2 as cv\n",
    "\n",
    "img=cv.imread(\"../source/pooh.jpg\")\n",
    "gray=cv.cvtColor(img,cv.COLOR_BGR2GRAY)\n",
    "\n",
    "canny1=cv.Canny(gray,50,150)\n",
    "canny2=cv.Canny(gray,100,200)\n",
    "\n",
    "cv.imshow(\"Original\",gray)\n",
    "cv.imshow(\"Canny1\",canny1)\n",
    "cv.imshow(\"Canny2\",canny2)\n",
    "\n",
    "cv.waitKey()\n",
    "cv.destroyAllWindows()\n"
   ]
  },
  {
   "cell_type": "code",
   "execution_count": null,
   "id": "abcfb449",
   "metadata": {},
   "outputs": [],
   "source": [
    "#4-3\n",
    "import cv2 as cv\n",
    "import numpy as np\n",
    "\n",
    "img=cv.imread(\"../source/pooh.jpg\")\n",
    "gray=cv.cvtColor(img,cv.COLOR_BGR2GRAY)\n",
    "canny=cv.Canny(gray,100,200)\n",
    "\n",
    "contour,hierarchy=cv.findContours(canny,cv.RETR_LIST,cv.CHAIN_APPROX_NONE)\n",
    "\n",
    "lcontour=[]\n",
    "for i in range(len(contour)):\n",
    "    if contour[i].shape[0]>100:\n",
    "        lcontour.append(contour[i])\n",
    "        \n",
    "cv.drawContours(img,lcontour,-1,(0,255,0),3)\n",
    "\n",
    "cv.imshow(\"Original with contours\",img)\n",
    "cv.imshow(\"Canny\",canny)\n",
    "\n",
    "cv.waitKey()\n",
    "cv.destroyAllWindows()"
   ]
  },
  {
   "cell_type": "code",
   "execution_count": null,
   "id": "5a8a3ec9",
   "metadata": {},
   "outputs": [],
   "source": []
  },
  {
   "cell_type": "code",
   "execution_count": 3,
   "id": "9eef0cba",
   "metadata": {},
   "outputs": [],
   "source": [
    "#4-4\n",
    "import cv2 as cv \n",
    "\n",
    "img=cv.imread('apples.jpg')\n",
    "gray=cv.cvtColor(img,cv.COLOR_BGR2GRAY)\n",
    "\n",
    "apples=cv.HoughCircles(gray,cv.HOUGH_GRADIENT,1,200,param1=150,param2=20,minRadius=50,maxRadius=120)\n",
    "\n",
    "for i in apples[0]: \n",
    "    cv.circle(img,(int(i[0]),int(i[1])),int(i[2]),(255,0,0),2)\n",
    "\n",
    "cv.imshow('Apple detection',img)  \n",
    "\n",
    "cv.waitKey()\n",
    "cv.destroyAllWindows()"
   ]
  },
  {
   "cell_type": "code",
   "execution_count": 9,
   "id": "75a5c59c",
   "metadata": {},
   "outputs": [],
   "source": [
    "#4-5\n",
    "import skimage\n",
    "import numpy as np\n",
    "import cv2 as cv\n",
    "\n",
    "img=skimage.data.coffee()\n",
    "cv.imshow(\"Coffee\",cv.cvtColor(img,cv.COLOR_RGB2BGR))\n",
    "\n",
    "#compactness 20\n",
    "slic1=skimage.segmentation.slic(img,compactness=20,n_segments=600)\n",
    "sp_img1=skimage.segmentation.mark_boundaries(img,slic1)\n",
    "sp_img1=np.uint8(sp_img1*255.0)\n",
    "\n",
    "#compactness 40\n",
    "slic2=skimage.segmentation.slic(img,compactness=40,n_segments=600)\n",
    "sp_img2=skimage.segmentation.mark_boundaries(img,slic2)\n",
    "sp_img2=np.uint8(sp_img2*255.0)\n",
    "\n",
    "#display\n",
    "cv.imshow(\"Super pixels(compact 20)\",cv.cvtColor(sp_img1,cv.COLOR_RGB2BGR))\n",
    "cv.imshow(\"Super pixels(compact 40)\",cv.cvtColor(sp_img2,cv.COLOR_RGB2BGR))\n",
    "\n",
    "cv.waitKey()\n",
    "cv.destroyAllWindows()\n"
   ]
  },
  {
   "cell_type": "code",
   "execution_count": null,
   "id": "81d075e5",
   "metadata": {},
   "outputs": [],
   "source": []
  },
  {
   "cell_type": "code",
   "execution_count": 12,
   "id": "6a4e47fd",
   "metadata": {},
   "outputs": [
    {
     "name": "stdout",
     "output_type": "stream",
     "text": [
      "(400, 600, 3) 영상 분해 시간(초)= 5.354327440261841\n"
     ]
    }
   ],
   "source": [
    "#4-6\n",
    "from skimage import data, future, segmentation, graph\n",
    "import numpy as np\n",
    "import cv2 as cv\n",
    "import time\n",
    "\n",
    "coffee=skimage.data.coffee()\n",
    "start=time.time()\n",
    "slic=skimage.segmentation.slic(coffee,compactness=20,n_segments=600,start_label=1)\n",
    "\n",
    "g=skimage.graph.rag_mean_color(coffee,slic,mode='similarity')\n",
    "ncut=skimage.graph.cut_normalized(slic,g)\n",
    "print(coffee.shape,\"영상 분해 시간(초)=\",time.time()-start)\n",
    "\n",
    "marking=skimage.segmentation.mark_boundaries(coffee,ncut)\n",
    "ncut_coffee=np.uint8(marking*255.0)\n",
    "\n",
    "cv.imshow(\"Normalized cut\",cv.cvtColor(ncut_coffee,cv.COLOR_RGB2BGR))\n",
    "\n",
    "cv.waitKey()\n",
    "cv.destroyAllWindows()"
   ]
  },
  {
   "cell_type": "code",
   "execution_count": 16,
   "id": "c60e6f4f",
   "metadata": {},
   "outputs": [],
   "source": [
    "#4-7\n",
    "import cv2 as cv \n",
    "import numpy as np\n",
    "\n",
    "img=cv.imread('../source/pooh.jpg')\n",
    "img_show=np.copy(img)# 붓 칠을 디스플레이할 영상\n",
    "\n",
    "mask=np.zeros((img.shape[0],img.shape[1]),np.uint8) \n",
    "mask[:,:]=cv.GC_PR_BGD# 모든 화소를 배경일 것 같음으로 초기화\n",
    "\n",
    "BrushSiz=9# 붓 크기\n",
    "LColor,RColor=(255,0,0),(0,0,255)\t# 파란색(물체)과 빨간색(배경)\n",
    "\n",
    "def painting(event,x,y,flags,param):\n",
    "    if event==cv.EVENT_LBUTTONDOWN:   \n",
    "        cv.circle(img_show,(x,y),BrushSiz,LColor,-1)# 왼쪽 버튼 - 파란색\n",
    "        cv.circle(mask,(x,y),BrushSiz,cv.GC_FGD,-1)\n",
    "    elif event==cv.EVENT_RBUTTONDOWN: \n",
    "        cv.circle(img_show,(x,y),BrushSiz,RColor,-1)# 오른쪽 버튼 - 빨간색\n",
    "        cv.circle(mask,(x,y),BrushSiz,cv.GC_BGD,-1)\n",
    "    elif event==cv.EVENT_MOUSEMOVE and flags==cv.EVENT_FLAG_LBUTTON:\n",
    "        cv.circle(img_show,(x,y),BrushSiz,LColor,-1)# 왼쪽 버튼 클릭하고 이동하면 파란색\n",
    "        cv.circle(mask,(x,y),BrushSiz,cv.GC_FGD,-1)\n",
    "    elif event==cv.EVENT_MOUSEMOVE and flags==cv.EVENT_FLAG_RBUTTON:\n",
    "        cv.circle(img_show,(x,y),BrushSiz,RColor,-1)# 오른쪽 버튼 클릭하고 이동하면 빨간색\n",
    "        cv.circle(mask,(x,y),BrushSiz,cv.GC_BGD,-1)\n",
    "\n",
    "    cv.imshow('Painting',img_show)\n",
    "    \n",
    "cv.namedWindow('Painting')\n",
    "cv.setMouseCallback('Painting',painting)\n",
    "\n",
    "while(True):# q누르면 결과 보여줌\n",
    "    if cv.waitKey(1)==ord('q'): \n",
    "        break\n",
    "\n",
    "# GrabCut 적용\n",
    "background=np.zeros((1,65),np.float64) # 배경 히스토그램 0으로 초기화\n",
    "foreground=np.zeros((1,65),np.float64) # 물체 히스토그램 0으로 초기화\n",
    "\n",
    "cv.grabCut(img,mask,None,background,foreground,5,cv.GC_INIT_WITH_MASK)\n",
    "mask2=np.where((mask==cv.GC_BGD)|(mask==cv.GC_PR_BGD),0,1).astype('uint8')\n",
    "grab=img*mask2[:,:,np.newaxis]\n",
    "cv.imshow('Grab cut image',grab)  \n",
    "\n",
    "cv.waitKey()\n",
    "cv.destroyAllWindows()"
   ]
  },
  {
   "cell_type": "code",
   "execution_count": 18,
   "id": "3f4d7673",
   "metadata": {},
   "outputs": [
    {
     "name": "stdout",
     "output_type": "stream",
     "text": [
      "면적= 42390.0 \n",
      "중점=( 187.72464024534088 , 144.43640402610677 ) \n",
      "둘레= 2296.7291333675385 \n",
      "둥근 정도= 0.1009842680321435\n"
     ]
    }
   ],
   "source": [
    "#4-8\n",
    "import skimage\n",
    "import numpy as np\n",
    "import cv2 as cv\n",
    "\n",
    "orig=skimage.data.horse()\n",
    "img=255-np.uint8(orig)*255\n",
    "cv.imshow('Horse',img)\n",
    "\n",
    "contours,hierarchy=cv.findContours(img,cv.RETR_EXTERNAL,cv.CHAIN_APPROX_NONE)\n",
    "\n",
    "img2=cv.cvtColor(img,cv.COLOR_GRAY2BGR)# 컬러 디스플레이용 영상\n",
    "cv.drawContours(img2,contours,-1,(255,0,255),2)\n",
    "cv.imshow('Horse with contour',img2)\n",
    "\n",
    "contour=contours[0]\n",
    "\n",
    "m=cv.moments(contour)# 몇 가지 특징 \n",
    "area=cv.contourArea(contour)\n",
    "cx,cy=m['m10']/m['m00'],m['m01']/m['m00']\n",
    "perimeter=cv.arcLength(contour,True)\n",
    "roundness=(4.0*np.pi*area)/(perimeter*perimeter)\n",
    "print('면적=',area,'\\n중점=(',cx,',',cy,')','\\n둘레=',perimeter,'\\n둥근 정도=',roundness)\n",
    "\n",
    "img3=cv.cvtColor(img,cv.COLOR_GRAY2BGR)# 컬러 디스플레이용 영상\n",
    "\n",
    "contour_approx=cv.approxPolyDP(contour,8,True)# 직선 근사\n",
    "cv.drawContours(img3,[contour_approx],-1,(0,255,0),2)\n",
    "\n",
    "hull=cv.convexHull(contour)# 볼록 헐\n",
    "hull=hull.reshape(1,hull.shape[0],hull.shape[2])\n",
    "cv.drawContours(img3,hull,-1,(0,0,255),2)\n",
    "\n",
    "cv.imshow('Horse with line segments and convex hull',img3)\n",
    "\n",
    "cv.waitKey()\n",
    "cv.destroyAllWindows()"
   ]
  },
  {
   "cell_type": "code",
   "execution_count": null,
   "id": "6f4c4f42",
   "metadata": {},
   "outputs": [],
   "source": []
  },
  {
   "cell_type": "code",
   "execution_count": null,
   "id": "e203adeb",
   "metadata": {},
   "outputs": [],
   "source": []
  },
  {
   "cell_type": "code",
   "execution_count": null,
   "id": "e5b91976",
   "metadata": {},
   "outputs": [],
   "source": []
  },
  {
   "cell_type": "code",
   "execution_count": null,
   "id": "6d5d3262",
   "metadata": {},
   "outputs": [],
   "source": []
  },
  {
   "cell_type": "code",
   "execution_count": null,
   "id": "b45b48d5",
   "metadata": {},
   "outputs": [],
   "source": []
  },
  {
   "cell_type": "code",
   "execution_count": null,
   "id": "c261c810",
   "metadata": {},
   "outputs": [],
   "source": []
  },
  {
   "cell_type": "code",
   "execution_count": null,
   "id": "c6e842f0",
   "metadata": {},
   "outputs": [],
   "source": []
  },
  {
   "cell_type": "code",
   "execution_count": null,
   "id": "2f481a10",
   "metadata": {},
   "outputs": [],
   "source": []
  },
  {
   "cell_type": "code",
   "execution_count": null,
   "id": "adc169e0",
   "metadata": {},
   "outputs": [],
   "source": []
  },
  {
   "cell_type": "code",
   "execution_count": null,
   "id": "4b941270",
   "metadata": {},
   "outputs": [],
   "source": []
  },
  {
   "cell_type": "code",
   "execution_count": null,
   "id": "1555259c",
   "metadata": {},
   "outputs": [],
   "source": []
  },
  {
   "cell_type": "code",
   "execution_count": null,
   "id": "83bac57c",
   "metadata": {},
   "outputs": [],
   "source": []
  },
  {
   "cell_type": "code",
   "execution_count": null,
   "id": "183085c3",
   "metadata": {},
   "outputs": [],
   "source": []
  },
  {
   "cell_type": "code",
   "execution_count": null,
   "id": "18af632b",
   "metadata": {},
   "outputs": [],
   "source": []
  },
  {
   "cell_type": "code",
   "execution_count": null,
   "id": "ae4303ce",
   "metadata": {},
   "outputs": [],
   "source": [
    "\n"
   ]
  },
  {
   "cell_type": "code",
   "execution_count": null,
   "id": "0c913469",
   "metadata": {},
   "outputs": [],
   "source": []
  },
  {
   "cell_type": "code",
   "execution_count": null,
   "id": "5de2c7df",
   "metadata": {},
   "outputs": [],
   "source": []
  },
  {
   "cell_type": "code",
   "execution_count": null,
   "id": "2d1d2407",
   "metadata": {},
   "outputs": [],
   "source": []
  },
  {
   "cell_type": "code",
   "execution_count": null,
   "id": "40111d7b",
   "metadata": {},
   "outputs": [],
   "source": []
  },
  {
   "cell_type": "code",
   "execution_count": null,
   "id": "b64d35d1",
   "metadata": {},
   "outputs": [],
   "source": []
  },
  {
   "cell_type": "code",
   "execution_count": null,
   "id": "036363d5",
   "metadata": {},
   "outputs": [],
   "source": []
  },
  {
   "cell_type": "code",
   "execution_count": null,
   "id": "ace6306d",
   "metadata": {},
   "outputs": [],
   "source": []
  },
  {
   "cell_type": "code",
   "execution_count": null,
   "id": "e5a3672a",
   "metadata": {},
   "outputs": [],
   "source": []
  },
  {
   "cell_type": "code",
   "execution_count": null,
   "id": "89ad6b83",
   "metadata": {},
   "outputs": [],
   "source": []
  }
 ],
 "metadata": {
  "kernelspec": {
   "display_name": "Python 3 (ipykernel)",
   "language": "python",
   "name": "python3"
  },
  "language_info": {
   "codemirror_mode": {
    "name": "ipython",
    "version": 3
   },
   "file_extension": ".py",
   "mimetype": "text/x-python",
   "name": "python",
   "nbconvert_exporter": "python",
   "pygments_lexer": "ipython3",
   "version": "3.11.4"
  }
 },
 "nbformat": 4,
 "nbformat_minor": 5
}
