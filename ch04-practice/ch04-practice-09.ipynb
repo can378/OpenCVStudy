{
 "cells": [
  {
   "cell_type": "code",
   "execution_count": 2,
   "id": "32aa8335",
   "metadata": {},
   "outputs": [],
   "source": [
    "import skimage\n",
    "import numpy as np\n",
    "import cv2 as cv\n",
    "\n",
    "img=skimage.data.coffee()\n",
    "cv.imshow(\"Coffee\",cv.cvtColor(img,cv.COLOR_RGB2BGR))\n",
    "\n",
    "#compactness 20\n",
    "slic1=skimage.segmentation.slic(img,compactness=20,n_segments=600)\n",
    "sp_img1=skimage.segmentation.mark_boundaries(img,slic1)\n",
    "sp_img1=np.uint8(sp_img1*255.0)\n",
    "\n",
    "#compactness 40\n",
    "slic2=skimage.segmentation.slic(img,compactness=40,n_segments=600)\n",
    "sp_img2=skimage.segmentation.mark_boundaries(img,slic2)\n",
    "sp_img2=np.uint8(sp_img2*255.0)\n",
    "\n",
    "#display\n",
    "cv.imshow(\"Super pixels(compact 20)\",cv.cvtColor(sp_img1,cv.COLOR_RGB2BGR))\n",
    "cv.imshow(\"Super pixels(compact 40)\",cv.cvtColor(sp_img2,cv.COLOR_RGB2BGR))\n",
    "\n",
    "cv.waitKey()\n",
    "cv.destroyAllWindows()\n"
   ]
  },
  {
   "cell_type": "code",
   "execution_count": null,
   "id": "045c3727",
   "metadata": {},
   "outputs": [],
   "source": []
  },
  {
   "cell_type": "code",
   "execution_count": null,
   "id": "a977126c",
   "metadata": {},
   "outputs": [],
   "source": []
  }
 ],
 "metadata": {
  "kernelspec": {
   "display_name": "Python 3 (ipykernel)",
   "language": "python",
   "name": "python3"
  },
  "language_info": {
   "codemirror_mode": {
    "name": "ipython",
    "version": 3
   },
   "file_extension": ".py",
   "mimetype": "text/x-python",
   "name": "python",
   "nbconvert_exporter": "python",
   "pygments_lexer": "ipython3",
   "version": "3.11.4"
  }
 },
 "nbformat": 4,
 "nbformat_minor": 5
}
