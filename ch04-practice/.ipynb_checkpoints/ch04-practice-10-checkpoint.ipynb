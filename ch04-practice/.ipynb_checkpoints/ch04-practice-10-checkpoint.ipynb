{
 "cells": [
  {
   "cell_type": "code",
   "execution_count": 6,
   "id": "032df374",
   "metadata": {},
   "outputs": [],
   "source": [
    "import cv2 as cv \n",
    "import numpy as np\n",
    "\n",
    "img=cv.imread('../source/pooh.jpg')\n",
    "img_show=np.copy(img)# 붓 칠할 영상\n",
    "\n",
    "mask=np.zeros((img.shape[0],img.shape[1]),np.uint8) \n",
    "mask[:,:]=cv.GC_PR_BGD# 모든 화소를 배경일 것 같음으로 초기화\n",
    "\n",
    "BrushSiz=9# 붓 크기\n",
    "LColor,RColor=(255,0,0),(0,0,255)\t# 파란색(물체)과 빨간색(배경)\n",
    "\n",
    "def painting(event,x,y,flags,param):\n",
    "    if event==cv.EVENT_LBUTTONDOWN:   \n",
    "        cv.circle(img_show,(x,y),BrushSiz,LColor,-1)\n",
    "        cv.circle(mask,(x,y),BrushSiz,cv.GC_FGD,-1)\n",
    "    elif event==cv.EVENT_RBUTTONDOWN: \n",
    "        cv.circle(img_show,(x,y),BrushSiz,RColor,-1)\n",
    "        cv.circle(mask,(x,y),BrushSiz,cv.GC_BGD,-1)\n",
    "    elif event==cv.EVENT_MOUSEMOVE and flags==cv.EVENT_FLAG_LBUTTON:\n",
    "        cv.circle(img_show,(x,y),BrushSiz,LColor,-1)\n",
    "        cv.circle(mask,(x,y),BrushSiz,cv.GC_FGD,-1)\n",
    "    elif event==cv.EVENT_MOUSEMOVE and flags==cv.EVENT_FLAG_RBUTTON:\n",
    "        cv.circle(img_show,(x,y),BrushSiz,RColor,-1)\n",
    "        cv.circle(mask,(x,y),BrushSiz,cv.GC_BGD,-1)\n",
    "\n",
    "    cv.imshow('Painting',img_show)\n",
    "    \n",
    "cv.namedWindow('Painting')\n",
    "cv.setMouseCallback('Painting',painting)\n",
    "\n",
    "\n",
    "def ApplyGrabCut(img,mask):\n",
    "    cv.grabCut(img,mask,None,background,foreground,5,cv.GC_INIT_WITH_MASK)\n",
    "    mask2=np.where((mask==cv.GC_BGD)|(mask==cv.GC_PR_BGD),0,1).astype('uint8')\n",
    "    grab=img*mask2[:,:,np.newaxis]\n",
    "    cv.imshow('Grab cut image',grab)\n",
    "    \n",
    "\n",
    "while(True):# q누르면 결과 보여줌\n",
    "    if cv.waitKey(1)==ord('q'): \n",
    "        # GrabCut 적용\n",
    "        background=np.zeros((1,65),np.float64) # 배경 히스토그램 0으로 초기화\n",
    "        foreground=np.zeros((1,65),np.float64) # 물체 히스토그램 0으로 초기화\n",
    "        ApplyGrabCut(img,mask)\n",
    "    elif cv.waitKey(1)==ord('e'):\n",
    "        break\n",
    "\n",
    "        \n",
    "cv.destroyAllWindows()"
   ]
  },
  {
   "cell_type": "code",
   "execution_count": null,
   "id": "6b386f5f",
   "metadata": {},
   "outputs": [],
   "source": []
  },
  {
   "cell_type": "code",
   "execution_count": null,
   "id": "8947dd90",
   "metadata": {},
   "outputs": [],
   "source": []
  },
  {
   "cell_type": "code",
   "execution_count": null,
   "id": "4cbd9d15",
   "metadata": {},
   "outputs": [],
   "source": []
  },
  {
   "cell_type": "code",
   "execution_count": null,
   "id": "da7fd26c",
   "metadata": {},
   "outputs": [],
   "source": []
  },
  {
   "cell_type": "code",
   "execution_count": null,
   "id": "38dea178",
   "metadata": {},
   "outputs": [],
   "source": []
  },
  {
   "cell_type": "code",
   "execution_count": null,
   "id": "9aa0e096",
   "metadata": {},
   "outputs": [],
   "source": []
  },
  {
   "cell_type": "code",
   "execution_count": null,
   "id": "2a798c24",
   "metadata": {},
   "outputs": [],
   "source": []
  },
  {
   "cell_type": "code",
   "execution_count": null,
   "id": "5227a320",
   "metadata": {},
   "outputs": [],
   "source": []
  },
  {
   "cell_type": "code",
   "execution_count": null,
   "id": "c13a9b92",
   "metadata": {},
   "outputs": [],
   "source": []
  }
 ],
 "metadata": {
  "kernelspec": {
   "display_name": "Python 3 (ipykernel)",
   "language": "python",
   "name": "python3"
  },
  "language_info": {
   "codemirror_mode": {
    "name": "ipython",
    "version": 3
   },
   "file_extension": ".py",
   "mimetype": "text/x-python",
   "name": "python",
   "nbconvert_exporter": "python",
   "pygments_lexer": "ipython3",
   "version": "3.11.4"
  }
 },
 "nbformat": 4,
 "nbformat_minor": 5
}
