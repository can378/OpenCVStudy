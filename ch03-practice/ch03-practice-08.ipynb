{
 "cells": [
  {
   "cell_type": "code",
   "execution_count": 10,
   "id": "6dd3f087",
   "metadata": {},
   "outputs": [
    {
     "name": "stdout",
     "output_type": "stream",
     "text": [
      "MyFunc time: 0.04195117950439453\n",
      "OpenCV time: 0.0009984970092773438\n"
     ]
    }
   ],
   "source": [
    "import cv2 as cv\n",
    "import numpy as np\n",
    "import time\n",
    "\n",
    "\n",
    "\n",
    "def myEqualizeHist(image):\n",
    "    # 이미지를 그레이스케일로 변환\n",
    "    gray_image = cv.cvtColor(image, cv.COLOR_BGR2GRAY)\n",
    "    \n",
    "    # 이미지의 히스토그램 계산\n",
    "    hist, bins = np.histogram(gray_image.flatten(), 256, [0,256])\n",
    "    \n",
    "    # 누적 분포 함수(CDF) 계산\n",
    "    cdf = hist.cumsum()\n",
    "    cdf_normalized = cdf * hist.max() / cdf.max()\n",
    "    \n",
    "    # 원본 이미지에 대한 누적 분포 함수의 역함수 계산\n",
    "    cdf_m = np.ma.masked_equal(cdf, 0)\n",
    "    cdf_m = (cdf_m - cdf_m.min()) * 255 / (cdf_m.max() - cdf_m.min())\n",
    "    cdf = np.ma.filled(cdf_m, 0).astype('uint8')\n",
    "    \n",
    "    # 히스토그램 평활화 적용\n",
    "    equalized_image = cdf[gray_image]\n",
    "    \n",
    "    return equalized_image\n",
    "\n",
    "\n",
    "\n",
    "\n",
    "#my function\n",
    "img=cv.imread(\"../source/pooh.jpg\")\n",
    "start=time.time()\n",
    "myEqualizeHist(img)\n",
    "print(\"MyFunc time:\",time.time()-start)\n",
    "\n",
    "#openCV function\n",
    "img2=cv.imread(\"../sourcr/pooh.jpg\",cv.IMREAD_GRAYSCALE)\n",
    "start=time.time()\n",
    "cv.equalizeHist(img2)\n",
    "print(\"OpenCV time:\",time.time()-start)\n",
    "\n"
   ]
  },
  {
   "cell_type": "code",
   "execution_count": null,
   "id": "85e77c76",
   "metadata": {},
   "outputs": [],
   "source": []
  },
  {
   "cell_type": "code",
   "execution_count": null,
   "id": "65a53659",
   "metadata": {},
   "outputs": [],
   "source": []
  },
  {
   "cell_type": "code",
   "execution_count": null,
   "id": "d2117905",
   "metadata": {},
   "outputs": [],
   "source": []
  },
  {
   "cell_type": "code",
   "execution_count": null,
   "id": "1abb9673",
   "metadata": {},
   "outputs": [],
   "source": []
  },
  {
   "cell_type": "code",
   "execution_count": null,
   "id": "af44d2e7",
   "metadata": {},
   "outputs": [],
   "source": []
  },
  {
   "cell_type": "code",
   "execution_count": null,
   "id": "02a040c8",
   "metadata": {},
   "outputs": [],
   "source": []
  },
  {
   "cell_type": "code",
   "execution_count": null,
   "id": "42819b21",
   "metadata": {},
   "outputs": [],
   "source": []
  },
  {
   "cell_type": "code",
   "execution_count": null,
   "id": "2257fda4",
   "metadata": {},
   "outputs": [],
   "source": []
  },
  {
   "cell_type": "code",
   "execution_count": null,
   "id": "6f6712e6",
   "metadata": {},
   "outputs": [],
   "source": []
  },
  {
   "cell_type": "code",
   "execution_count": 1,
   "id": "20d73c6a",
   "metadata": {},
   "outputs": [],
   "source": []
  },
  {
   "cell_type": "code",
   "execution_count": null,
   "id": "660e543e",
   "metadata": {},
   "outputs": [],
   "source": []
  },
  {
   "cell_type": "code",
   "execution_count": null,
   "id": "bbf9dc9c",
   "metadata": {},
   "outputs": [],
   "source": []
  },
  {
   "cell_type": "code",
   "execution_count": null,
   "id": "01d76bfd",
   "metadata": {},
   "outputs": [],
   "source": []
  }
 ],
 "metadata": {
  "kernelspec": {
   "display_name": "Python 3 (ipykernel)",
   "language": "python",
   "name": "python3"
  },
  "language_info": {
   "codemirror_mode": {
    "name": "ipython",
    "version": 3
   },
   "file_extension": ".py",
   "mimetype": "text/x-python",
   "name": "python",
   "nbconvert_exporter": "python",
   "pygments_lexer": "ipython3",
   "version": "3.11.4"
  }
 },
 "nbformat": 4,
 "nbformat_minor": 5
}
